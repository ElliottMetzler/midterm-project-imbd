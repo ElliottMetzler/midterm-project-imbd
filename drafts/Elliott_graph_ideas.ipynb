{
 "cells": [
  {
   "cell_type": "code",
   "execution_count": 31,
   "id": "24e180fc-a702-4644-b63c-20d51a9367a5",
   "metadata": {},
   "outputs": [
    {
     "name": "stdout",
     "output_type": "stream",
     "text": [
      "The nb_black extension is already loaded. To reload it, use:\n",
      "  %reload_ext nb_black\n"
     ]
    },
    {
     "data": {
      "application/javascript": [
       "\n",
       "            setTimeout(function() {\n",
       "                var nbb_cell_id = 31;\n",
       "                var nbb_unformatted_code = \"import pandas as pd\\nimport matplotlib.pyplot as plt\\nimport seaborn as sns\\n%load_ext nb_black\";\n",
       "                var nbb_formatted_code = \"import pandas as pd\\nimport matplotlib.pyplot as plt\\nimport seaborn as sns\\n\\n%load_ext nb_black\";\n",
       "                var nbb_cells = Jupyter.notebook.get_cells();\n",
       "                for (var i = 0; i < nbb_cells.length; ++i) {\n",
       "                    if (nbb_cells[i].input_prompt_number == nbb_cell_id) {\n",
       "                        if (nbb_cells[i].get_text() == nbb_unformatted_code) {\n",
       "                             nbb_cells[i].set_text(nbb_formatted_code);\n",
       "                        }\n",
       "                        break;\n",
       "                    }\n",
       "                }\n",
       "            }, 500);\n",
       "            "
      ],
      "text/plain": [
       "<IPython.core.display.Javascript object>"
      ]
     },
     "metadata": {},
     "output_type": "display_data"
    }
   ],
   "source": [
    "import pandas as pd\n",
    "import matplotlib.pyplot as plt\n",
    "import seaborn as sns\n",
    "%load_ext nb_black\n"
   ]
  },
  {
   "cell_type": "code",
   "execution_count": 9,
   "id": "12e637cf-9c69-4399-bca9-9b8389df1f96",
   "metadata": {},
   "outputs": [],
   "source": [
    "df = pd.read_csv(\"../data/clean/imdb_clean.csv\").sort_values(\"GrossRevenue\", ascending=False)[:1000]"
   ]
  },
  {
   "cell_type": "markdown",
   "id": "dd4285bb-b4cf-430f-b341-6c5fd2285827",
   "metadata": {},
   "source": [
    "## What Genres tend to be most heavily represented in the top 1000 movies?\n",
    "\n",
    "Here, we calculate the average of each of the dummy columns to get the proportion of the top 1000 movies that identify as each genre."
   ]
  },
  {
   "cell_type": "code",
   "execution_count": 87,
   "id": "3393d108-6964-4e81-a698-f0ed8ed89284",
   "metadata": {},
   "outputs": [
    {
     "data": {
      "text/plain": [
       "[Text(0.5, 1.0, 'Percentage of Top 1000 US Grossing Movies by Genre')]"
      ]
     },
     "execution_count": 87,
     "metadata": {},
     "output_type": "execute_result"
    },
    {
     "data": {
      "image/png": "[encoded data removed]",
      "text/plain": [
       "<Figure size 1296x432 with 1 Axes>"
      ]
     },
     "metadata": {
      "needs_background": "light"
     },
     "output_type": "display_data"
    },
    {
     "data": {
      "application/javascript": [
       "\n",
       "            setTimeout(function() {\n",
       "                var nbb_cell_id = 86;\n",
       "                var nbb_unformatted_code = \"counts_by_year = {\\\"ReleaseYear\\\": list(range(1935,2022))}\\ncounts_by_year = (pd\\n                  .DataFrame(counts_by_year)\\n                  .merge(counts_by_year_data,\\n                         on = \\\"ReleaseYear\\\",\\n                         how = \\\"left\\\")).rename(columns = {\\\"Title\\\": \\\"Count\\\"})\\nplt.figure(figsize=(18,8))\\n\\nsns.barplot(data=counts_by_year,\\n               x = \\\"ReleaseYear\\\",\\n               y = \\\"Count\\\")\";\n",
       "                var nbb_formatted_code = \"counts_by_year = {\\\"ReleaseYear\\\": list(range(1935, 2022))}\\ncounts_by_year = (\\n    pd.DataFrame(counts_by_year).merge(\\n        counts_by_year_data, on=\\\"ReleaseYear\\\", how=\\\"left\\\"\\n    )\\n).rename(columns={\\\"Title\\\": \\\"Count\\\"})\\nplt.figure(figsize=(18, 8))\\n\\nsns.barplot(data=counts_by_year, x=\\\"ReleaseYear\\\", y=\\\"Count\\\")\";\n",
       "                var nbb_cells = Jupyter.notebook.get_cells();\n",
       "                for (var i = 0; i < nbb_cells.length; ++i) {\n",
       "                    if (nbb_cells[i].input_prompt_number == nbb_cell_id) {\n",
       "                        if (nbb_cells[i].get_text() == nbb_unformatted_code) {\n",
       "                             nbb_cells[i].set_text(nbb_formatted_code);\n",
       "                        }\n",
       "                        break;\n",
       "                    }\n",
       "                }\n",
       "            }, 500);\n",
       "            "
      ],
      "text/plain": [
       "<IPython.core.display.Javascript object>"
      ]
     },
     "metadata": {},
     "output_type": "display_data"
    }
   ],
   "source": [
    "genre_props = (\n",
    "    df[['Action', 'Adventure', 'Animation', 'Biography', 'Comedy', 'Crime',\n",
    "       'Drama', 'Family', 'Fantasy', 'History', 'Horror', 'Music', 'Musical',\n",
    "       'Mystery', 'Romance', 'Sci-Fi', 'Sport', 'Thriller', 'War', 'Western']]\n",
    "    .mean()\n",
    "    .reset_index()\n",
    "    .rename(columns = {\"index\": \"Genre\", 0: \"Proportion\"})\n",
    "    .sort_values(\"Proportion\", ascending = False)\n",
    ")\n",
    "\n",
    "plt.figure(figsize=(18,6))\n",
    "sns.barplot(data=genre_props,\n",
    "            x = \"Proportion\",\n",
    "            y = \"Genre\",\n",
    "           orient = \"h\",\n",
    "           palette = \"Blues_r\").set(title=\"Percentage of Top 1000 US Grossing Movies by Genre\")"
   ]
  },
  {
   "cell_type": "markdown",
   "id": "8540ae45-3974-4c21-8e57-805979c93fb8",
   "metadata": {},
   "source": [
    "## When were most of these movies released?"
   ]
  },
  {
   "cell_type": "code",
   "execution_count": 88,
   "id": "10837ca8-85b7-4f32-ad2b-ab0cc36af3dd",
   "metadata": {},
   "outputs": [
    {
     "data": {
      "application/javascript": [
       "\n",
       "            setTimeout(function() {\n",
       "                var nbb_cell_id = 87;\n",
       "                var nbb_unformatted_code = \"genre_props = (\\n    df[['Action', 'Adventure', 'Animation', 'Biography', 'Comedy', 'Crime',\\n       'Drama', 'Family', 'Fantasy', 'History', 'Horror', 'Music', 'Musical',\\n       'Mystery', 'Romance', 'Sci-Fi', 'Sport', 'Thriller', 'War', 'Western']]\\n    .mean()\\n    .reset_index()\\n    .rename(columns = {\\\"index\\\": \\\"Genre\\\", 0: \\\"Proportion\\\"})\\n    .sort_values(\\\"Proportion\\\", ascending = False)\\n)\\n\\nplt.figure(figsize=(18,6))\\nsns.barplot(data=genre_props,\\n            x = \\\"Proportion\\\",\\n            y = \\\"Genre\\\",\\n           orient = \\\"h\\\",\\n           palette = \\\"Blues_r\\\").set(title=\\\"Percentage of Top 1000 US Grossing Movies by Genre\\\")\";\n",
       "                var nbb_formatted_code = \"genre_props = (\\n    df[\\n        [\\n            \\\"Action\\\",\\n            \\\"Adventure\\\",\\n            \\\"Animation\\\",\\n            \\\"Biography\\\",\\n            \\\"Comedy\\\",\\n            \\\"Crime\\\",\\n            \\\"Drama\\\",\\n            \\\"Family\\\",\\n            \\\"Fantasy\\\",\\n            \\\"History\\\",\\n            \\\"Horror\\\",\\n            \\\"Music\\\",\\n            \\\"Musical\\\",\\n            \\\"Mystery\\\",\\n            \\\"Romance\\\",\\n            \\\"Sci-Fi\\\",\\n            \\\"Sport\\\",\\n            \\\"Thriller\\\",\\n            \\\"War\\\",\\n            \\\"Western\\\",\\n        ]\\n    ]\\n    .mean()\\n    .reset_index()\\n    .rename(columns={\\\"index\\\": \\\"Genre\\\", 0: \\\"Proportion\\\"})\\n    .sort_values(\\\"Proportion\\\", ascending=False)\\n)\\n\\nplt.figure(figsize=(18, 6))\\nsns.barplot(\\n    data=genre_props, x=\\\"Proportion\\\", y=\\\"Genre\\\", orient=\\\"h\\\", palette=\\\"Blues_r\\\"\\n).set(title=\\\"Percentage of Top 1000 US Grossing Movies by Genre\\\")\";\n",
       "                var nbb_cells = Jupyter.notebook.get_cells();\n",
       "                for (var i = 0; i < nbb_cells.length; ++i) {\n",
       "                    if (nbb_cells[i].input_prompt_number == nbb_cell_id) {\n",
       "                        if (nbb_cells[i].get_text() == nbb_unformatted_code) {\n",
       "                             nbb_cells[i].set_text(nbb_formatted_code);\n",
       "                        }\n",
       "                        break;\n",
       "                    }\n",
       "                }\n",
       "            }, 500);\n",
       "            "
      ],
      "text/plain": [
       "<IPython.core.display.Javascript object>"
      ]
     },
     "metadata": {},
     "output_type": "display_data"
    }
   ],
   "source": [
    "counts_by_year_data = df.groupby(\"ReleaseYear\")[\"Title\"].count().reset_index()"
   ]
  },
  {
   "cell_type": "code",
   "execution_count": 106,
   "id": "32e7564c-29c5-45a6-99db-cc7d3b58dff9",
   "metadata": {},
   "outputs": [
    {
     "data": {
      "text/plain": [
       "(array([ 0,  1,  2,  3,  4,  5,  6,  7,  8,  9, 10, 11, 12, 13, 14, 15, 16,\n",
       "        17, 18, 19, 20, 21, 22, 23, 24, 25, 26, 27, 28, 29, 30, 31, 32, 33,\n",
       "        34, 35, 36, 37, 38, 39, 40, 41, 42, 43, 44, 45, 46, 47, 48, 49, 50,\n",
       "        51, 52, 53, 54, 55, 56, 57, 58, 59, 60, 61, 62, 63, 64, 65, 66, 67,\n",
       "        68, 69, 70, 71, 72, 73, 74, 75, 76, 77, 78, 79, 80, 81, 82, 83, 84,\n",
       "        85, 86]),\n",
       " [Text(0, 0, '1935'),\n",
       "  Text(1, 0, '1936'),\n",
       "  Text(2, 0, '1937'),\n",
       "  Text(3, 0, '1938'),\n",
       "  Text(4, 0, '1939'),\n",
       "  Text(5, 0, '1940'),\n",
       "  Text(6, 0, '1941'),\n",
       "  Text(7, 0, '1942'),\n",
       "  Text(8, 0, '1943'),\n",
       "  Text(9, 0, '1944'),\n",
       "  Text(10, 0, '1945'),\n",
       "  Text(11, 0, '1946'),\n",
       "  Text(12, 0, '1947'),\n",
       "  Text(13, 0, '1948'),\n",
       "  Text(14, 0, '1949'),\n",
       "  Text(15, 0, '1950'),\n",
       "  Text(16, 0, '1951'),\n",
       "  Text(17, 0, '1952'),\n",
       "  Text(18, 0, '1953'),\n",
       "  Text(19, 0, '1954'),\n",
       "  Text(20, 0, '1955'),\n",
       "  Text(21, 0, '1956'),\n",
       "  Text(22, 0, '1957'),\n",
       "  Text(23, 0, '1958'),\n",
       "  Text(24, 0, '1959'),\n",
       "  Text(25, 0, '1960'),\n",
       "  Text(26, 0, '1961'),\n",
       "  Text(27, 0, '1962'),\n",
       "  Text(28, 0, '1963'),\n",
       "  Text(29, 0, '1964'),\n",
       "  Text(30, 0, '1965'),\n",
       "  Text(31, 0, '1966'),\n",
       "  Text(32, 0, '1967'),\n",
       "  Text(33, 0, '1968'),\n",
       "  Text(34, 0, '1969'),\n",
       "  Text(35, 0, '1970'),\n",
       "  Text(36, 0, '1971'),\n",
       "  Text(37, 0, '1972'),\n",
       "  Text(38, 0, '1973'),\n",
       "  Text(39, 0, '1974'),\n",
       "  Text(40, 0, '1975'),\n",
       "  Text(41, 0, '1976'),\n",
       "  Text(42, 0, '1977'),\n",
       "  Text(43, 0, '1978'),\n",
       "  Text(44, 0, '1979'),\n",
       "  Text(45, 0, '1980'),\n",
       "  Text(46, 0, '1981'),\n",
       "  Text(47, 0, '1982'),\n",
       "  Text(48, 0, '1983'),\n",
       "  Text(49, 0, '1984'),\n",
       "  Text(50, 0, '1985'),\n",
       "  Text(51, 0, '1986'),\n",
       "  Text(52, 0, '1987'),\n",
       "  Text(53, 0, '1988'),\n",
       "  Text(54, 0, '1989'),\n",
       "  Text(55, 0, '1990'),\n",
       "  Text(56, 0, '1991'),\n",
       "  Text(57, 0, '1992'),\n",
       "  Text(58, 0, '1993'),\n",
       "  Text(59, 0, '1994'),\n",
       "  Text(60, 0, '1995'),\n",
       "  Text(61, 0, '1996'),\n",
       "  Text(62, 0, '1997'),\n",
       "  Text(63, 0, '1998'),\n",
       "  Text(64, 0, '1999'),\n",
       "  Text(65, 0, '2000'),\n",
       "  Text(66, 0, '2001'),\n",
       "  Text(67, 0, '2002'),\n",
       "  Text(68, 0, '2003'),\n",
       "  Text(69, 0, '2004'),\n",
       "  Text(70, 0, '2005'),\n",
       "  Text(71, 0, '2006'),\n",
       "  Text(72, 0, '2007'),\n",
       "  Text(73, 0, '2008'),\n",
       "  Text(74, 0, '2009'),\n",
       "  Text(75, 0, '2010'),\n",
       "  Text(76, 0, '2011'),\n",
       "  Text(77, 0, '2012'),\n",
       "  Text(78, 0, '2013'),\n",
       "  Text(79, 0, '2014'),\n",
       "  Text(80, 0, '2015'),\n",
       "  Text(81, 0, '2016'),\n",
       "  Text(82, 0, '2017'),\n",
       "  Text(83, 0, '2018'),\n",
       "  Text(84, 0, '2019'),\n",
       "  Text(85, 0, '2020'),\n",
       "  Text(86, 0, '2021')])"
      ]
     },
     "execution_count": 106,
     "metadata": {},
     "output_type": "execute_result"
    },
    {
     "data": {
      "image/png": "[encoded data removed]",
      "text/plain": [
       "<Figure size 1296x576 with 1 Axes>"
      ]
     },
     "metadata": {
      "needs_background": "light"
     },
     "output_type": "display_data"
    },
    {
     "data": {
      "application/javascript": [
       "\n",
       "            setTimeout(function() {\n",
       "                var nbb_cell_id = 105;\n",
       "                var nbb_unformatted_code = \"counts_by_year = {\\\"ReleaseYear\\\": list(range(1935,2022))}\\ncounts_by_year = (pd\\n                  .DataFrame(counts_by_year)\\n                  .merge(counts_by_year_data,\\n                         on = \\\"ReleaseYear\\\",\\n                         how = \\\"left\\\")\\n                  .rename(columns = {\\\"Title\\\": \\\"Count\\\"}))\\n\\nplt.figure(figsize=(18,8))\\nsns.barplot(data=counts_by_year,\\n            x = \\\"ReleaseYear\\\",\\n            y = \\\"Count\\\",\\n            palette = \\\"Blues\\\")\\nplt.xticks(rotation=90)\";\n",
       "                var nbb_formatted_code = \"counts_by_year = {\\\"ReleaseYear\\\": list(range(1935, 2022))}\\ncounts_by_year = (\\n    pd.DataFrame(counts_by_year)\\n    .merge(counts_by_year_data, on=\\\"ReleaseYear\\\", how=\\\"left\\\")\\n    .rename(columns={\\\"Title\\\": \\\"Count\\\"})\\n)\\n\\nplt.figure(figsize=(18, 8))\\nsns.barplot(data=counts_by_year, x=\\\"ReleaseYear\\\", y=\\\"Count\\\", palette=\\\"Blues\\\")\\nplt.xticks(rotation=90)\";\n",
       "                var nbb_cells = Jupyter.notebook.get_cells();\n",
       "                for (var i = 0; i < nbb_cells.length; ++i) {\n",
       "                    if (nbb_cells[i].input_prompt_number == nbb_cell_id) {\n",
       "                        if (nbb_cells[i].get_text() == nbb_unformatted_code) {\n",
       "                             nbb_cells[i].set_text(nbb_formatted_code);\n",
       "                        }\n",
       "                        break;\n",
       "                    }\n",
       "                }\n",
       "            }, 500);\n",
       "            "
      ],
      "text/plain": [
       "<IPython.core.display.Javascript object>"
      ]
     },
     "metadata": {},
     "output_type": "display_data"
    }
   ],
   "source": [
    "counts_by_year = {\"ReleaseYear\": list(range(1935,2022))}\n",
    "counts_by_year = (pd\n",
    "                  .DataFrame(counts_by_year)\n",
    "                  .merge(counts_by_year_data,\n",
    "                         on = \"ReleaseYear\",\n",
    "                         how = \"left\")\n",
    "                  .rename(columns = {\"Title\": \"Count\"}))\n",
    "\n",
    "plt.figure(figsize=(18,8))\n",
    "sns.barplot(data=counts_by_year,\n",
    "            x = \"ReleaseYear\",\n",
    "            y = \"Count\",\n",
    "            palette = \"Blues\").set(title=\"Number of Movies in the Top 1000 US Grossing List by Release Year\")\n",
    "plt.xticks(rotation=90)"
   ]
  },
  {
   "cell_type": "markdown",
   "id": "fd49bfb2-a3ad-413a-a775-2918d2f460ae",
   "metadata": {},
   "source": [
    "## Some other options or ideas\n",
    "\n",
    "* Average IMDB Rating by Genre (bar chart)\n",
    "* Average Metascore by Genre (bar chart)\n",
    "* Average US Grossing by Genre (bar chart)\n",
    "* Average duration by Genre (bar chart)\n",
    "* Relationship between IMDB rating and Income (scatter - should have this already?)"
   ]
  }
 ],
 "metadata": {
  "environment": {
   "kernel": "python3",
   "name": "common-cpu.m89",
   "type": "gcloud",
   "uri": "gcr.io/deeplearning-platform-release/base-cpu:m89"
  },
  "kernelspec": {
   "display_name": "Python 3",
   "language": "python",
   "name": "python3"
  },
  "language_info": {
   "codemirror_mode": {
    "name": "ipython",
    "version": 3
   },
   "file_extension": ".py",
   "mimetype": "text/x-python",
   "name": "python",
   "nbconvert_exporter": "python",
   "pygments_lexer": "ipython3",
   "version": "3.7.12"
  }
 },
 "nbformat": 4,
 "nbformat_minor": 5
}
